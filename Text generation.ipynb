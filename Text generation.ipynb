{
 "cells": [
  {
   "cell_type": "code",
   "execution_count": 1,
   "metadata": {
    "executionInfo": {
     "elapsed": 5735,
     "status": "ok",
     "timestamp": 1645619513666,
     "user": {
      "displayName": "Kimata Debonair.",
      "photoUrl": "https://lh3.googleusercontent.com/a-/AOh14Gj-SlXpfy04SZBG8sjiCFq1PhqepW5KWh_MRnVd=s64",
      "userId": "07396453125942490569"
     },
     "user_tz": -180
    },
    "id": "M21fA7P3Tj1O"
   },
   "outputs": [
    {
     "name": "stderr",
     "output_type": "stream",
     "text": [
      "2022-04-21 12:13:12.715675: W tensorflow/stream_executor/platform/default/dso_loader.cc:64] Could not load dynamic library 'libcudart.so.11.0'; dlerror: libcudart.so.11.0: cannot open shared object file: No such file or directory\n",
      "2022-04-21 12:13:12.715741: I tensorflow/stream_executor/cuda/cudart_stub.cc:29] Ignore above cudart dlerror if you do not have a GPU set up on your machine.\n"
     ]
    }
   ],
   "source": [
    "import json\n",
    "import numpy as np\n",
    "import tensorflow as tf\n",
    "from tensorflow.keras.preprocessing.text import Tokenizer\n",
    "from tensorflow.keras.preprocessing.sequence import pad_sequences"
   ]
  },
  {
   "cell_type": "code",
   "execution_count": 2,
   "metadata": {
    "executionInfo": {
     "elapsed": 11,
     "status": "ok",
     "timestamp": 1645619513668,
     "user": {
      "displayName": "Kimata Debonair.",
      "photoUrl": "https://lh3.googleusercontent.com/a-/AOh14Gj-SlXpfy04SZBG8sjiCFq1PhqepW5KWh_MRnVd=s64",
      "userId": "07396453125942490569"
     },
     "user_tz": -180
    },
    "id": "SA3eEqjObe4b"
   },
   "outputs": [],
   "source": [
    "sentences = []\n",
    "\n",
    "with open('../Notebook files/sarcasm.json') as f:\n",
    "  datastore = json.load(f)\n",
    "\n",
    "\n",
    "for item in datastore:\n",
    "  sentences.append(item['headline'])\n",
    "\n",
    "sentences = sentences[:8000]"
   ]
  },
  {
   "cell_type": "code",
   "execution_count": 3,
   "metadata": {
    "colab": {
     "base_uri": "https://localhost:8080/"
    },
    "executionInfo": {
     "elapsed": 9,
     "status": "ok",
     "timestamp": 1645619513668,
     "user": {
      "displayName": "Kimata Debonair.",
      "photoUrl": "https://lh3.googleusercontent.com/a-/AOh14Gj-SlXpfy04SZBG8sjiCFq1PhqepW5KWh_MRnVd=s64",
      "userId": "07396453125942490569"
     },
     "user_tz": -180
    },
    "id": "gXti8OnujIfT",
    "outputId": "94d469f6-11a8-409b-a2bb-ddd51a97c420"
   },
   "outputs": [
    {
     "name": "stdout",
     "output_type": "stream",
     "text": [
      "8000\n"
     ]
    }
   ],
   "source": [
    "print(len(sentences))"
   ]
  },
  {
   "cell_type": "code",
   "execution_count": 4,
   "metadata": {
    "colab": {
     "base_uri": "https://localhost:8080/"
    },
    "executionInfo": {
     "elapsed": 626,
     "status": "ok",
     "timestamp": 1645619514287,
     "user": {
      "displayName": "Kimata Debonair.",
      "photoUrl": "https://lh3.googleusercontent.com/a-/AOh14Gj-SlXpfy04SZBG8sjiCFq1PhqepW5KWh_MRnVd=s64",
      "userId": "07396453125942490569"
     },
     "user_tz": -180
    },
    "id": "gssLNjdPdHJl",
    "outputId": "1e8e7a8c-7f21-40b0-a257-f0db1055b2c8"
   },
   "outputs": [
    {
     "name": "stdout",
     "output_type": "stream",
     "text": [
      "15828\n"
     ]
    }
   ],
   "source": [
    "tokenizer = Tokenizer()\n",
    "\n",
    "tokenizer.fit_on_texts(sentences)\n",
    "total_words = len(tokenizer.word_index) + 1\n",
    "word_index = tokenizer.word_index\n",
    "\n",
    "print(len(word_index))"
   ]
  },
  {
   "cell_type": "code",
   "execution_count": 5,
   "metadata": {
    "executionInfo": {
     "elapsed": 2298,
     "status": "ok",
     "timestamp": 1645619516578,
     "user": {
      "displayName": "Kimata Debonair.",
      "photoUrl": "https://lh3.googleusercontent.com/a-/AOh14Gj-SlXpfy04SZBG8sjiCFq1PhqepW5KWh_MRnVd=s64",
      "userId": "07396453125942490569"
     },
     "user_tz": -180
    },
    "id": "t7rblxq_e1yB"
   },
   "outputs": [],
   "source": [
    "\n",
    "input_sequences = []\n",
    "for line in sentences:\n",
    "  token_list = tokenizer.texts_to_sequences([line])[0]\n",
    "\n",
    "  for i in range(1, len(token_list)):\n",
    "    n_gram_sequence = token_list[:i + 1]\n",
    "    input_sequences.append(n_gram_sequence)\n",
    "\n",
    "#Pad sequences.\n",
    "max_sequence_len = max([len(x) for x in input_sequences])\n",
    "input_sequences = np.array(pad_sequences(input_sequences, maxlen = max_sequence_len, padding = 'post'))\n",
    "\n",
    "#Create predictors and labels.\n",
    "X = input_sequences[:, :-1]\n",
    "labels = input_sequences[:, -1]\n",
    "y = tf.keras.utils.to_categorical(labels, num_classes = total_words)\n"
   ]
  },
  {
   "cell_type": "code",
   "execution_count": 6,
   "metadata": {
    "colab": {
     "base_uri": "https://localhost:8080/"
    },
    "executionInfo": {
     "elapsed": 18,
     "status": "ok",
     "timestamp": 1645619516579,
     "user": {
      "displayName": "Kimata Debonair.",
      "photoUrl": "https://lh3.googleusercontent.com/a-/AOh14Gj-SlXpfy04SZBG8sjiCFq1PhqepW5KWh_MRnVd=s64",
      "userId": "07396453125942490569"
     },
     "user_tz": -180
    },
    "id": "b40P95uzgMFj",
    "outputId": "4b800e1e-aed1-4e86-a969-6da91b9c285c"
   },
   "outputs": [
    {
     "name": "stdout",
     "output_type": "stream",
     "text": [
      "4\n",
      "3\n",
      "13278\n"
     ]
    }
   ],
   "source": [
    "print(tokenizer.word_index['in'])\n",
    "print(tokenizer.word_index['the'])\n",
    "print(tokenizer.word_index['capital'])"
   ]
  },
  {
   "cell_type": "code",
   "execution_count": 7,
   "metadata": {
    "colab": {
     "base_uri": "https://localhost:8080/"
    },
    "executionInfo": {
     "elapsed": 3564,
     "status": "ok",
     "timestamp": 1645619520133,
     "user": {
      "displayName": "Kimata Debonair.",
      "photoUrl": "https://lh3.googleusercontent.com/a-/AOh14Gj-SlXpfy04SZBG8sjiCFq1PhqepW5KWh_MRnVd=s64",
      "userId": "07396453125942490569"
     },
     "user_tz": -180
    },
    "id": "fLa9TmFdhRbc",
    "outputId": "200264cb-fc61-416c-bb7a-ae252922d69e"
   },
   "outputs": [
    {
     "name": "stdout",
     "output_type": "stream",
     "text": [
      "Model: \"sequential\"\n",
      "_________________________________________________________________\n",
      " Layer (type)                Output Shape              Param #   \n",
      "=================================================================\n",
      " embedding (Embedding)       (None, 26, 100)           1582900   \n",
      "                                                                 \n",
      " bidirectional (Bidirectiona  (None, 300)              301200    \n",
      " l)                                                              \n",
      "                                                                 \n",
      " dense (Dense)               (None, 15829)             4764529   \n",
      "                                                                 \n",
      "=================================================================\n",
      "Total params: 6,648,629\n",
      "Trainable params: 6,648,629\n",
      "Non-trainable params: 0\n",
      "_________________________________________________________________\n",
      "None\n"
     ]
    }
   ],
   "source": [
    "model = tf.keras.Sequential([\n",
    "                             tf.keras.layers.Embedding(total_words, 100, input_length = max_sequence_len - 1),\n",
    "                             tf.keras.layers.Bidirectional(tf.keras.layers.LSTM(150)),\n",
    "                             tf.keras.layers.Dense(total_words, activation = 'softmax')\n",
    "\n",
    "])\n",
    "\n",
    "#Compile model.\n",
    "model.compile(\n",
    "    loss = 'categorical_crossentropy',\n",
    "    optimizer = tf.keras.optimizers.Adam(learning_rate = 0.01),\n",
    "    metrics = ['accuracy']\n",
    "\n",
    ")\n",
    "\n",
    "print(model.summary())"
   ]
  },
  {
   "cell_type": "code",
   "execution_count": 8,
   "metadata": {
    "colab": {
     "base_uri": "https://localhost:8080/"
    },
    "executionInfo": {
     "elapsed": 389514,
     "status": "ok",
     "timestamp": 1645619909639,
     "user": {
      "displayName": "Kimata Debonair.",
      "photoUrl": "https://lh3.googleusercontent.com/a-/AOh14Gj-SlXpfy04SZBG8sjiCFq1PhqepW5KWh_MRnVd=s64",
      "userId": "07396453125942490569"
     },
     "user_tz": -180
    },
    "id": "JFrlYYLuhbbM",
    "outputId": "b47c3399-43b4-4ed6-f5b8-e99b5251ff8d"
   },
   "outputs": [
    {
     "name": "stdout",
     "output_type": "stream",
     "text": [
      "Epoch 1/5\n",
      "2255/2255 [==============================] - 74s 29ms/step - loss: 0.0140 - accuracy: 0.9995\n",
      "Epoch 2/5\n",
      "2255/2255 [==============================] - 69s 31ms/step - loss: 0.0010 - accuracy: 1.0000\n",
      "Epoch 3/5\n",
      "2255/2255 [==============================] - 68s 30ms/step - loss: 0.0017 - accuracy: 0.9995\n",
      "Epoch 4/5\n",
      "2255/2255 [==============================] - 71s 32ms/step - loss: 0.0021 - accuracy: 1.0000\n",
      "Epoch 5/5\n",
      "2255/2255 [==============================] - 69s 31ms/step - loss: 0.0019 - accuracy: 1.0000\n"
     ]
    }
   ],
   "source": [
    "history = model.fit(X, y, epochs = 5, verbose = 1)"
   ]
  },
  {
   "cell_type": "code",
   "execution_count": 15,
   "metadata": {
    "colab": {
     "base_uri": "https://localhost:8080/"
    },
    "executionInfo": {
     "elapsed": 543,
     "status": "ok",
     "timestamp": 1645620161662,
     "user": {
      "displayName": "Kimata Debonair.",
      "photoUrl": "https://lh3.googleusercontent.com/a-/AOh14Gj-SlXpfy04SZBG8sjiCFq1PhqepW5KWh_MRnVd=s64",
      "userId": "07396453125942490569"
     },
     "user_tz": -180
    },
    "id": "W20DsJfLimhc",
    "outputId": "b8af9357-c90e-4809-aff4-02d4c4eaba1b"
   },
   "outputs": [
    {
     "name": "stdout",
     "output_type": "stream",
     "text": [
      "I've got a feeling\n"
     ]
    }
   ],
   "source": [
    "#Text generation.\n",
    "from traitlets.traitlets import ClassTypes\n",
    "\n",
    "next_words = 10\n",
    "#Seed text.\n",
    "seed_text = 'I\\'ve got a feeling'\n",
    "\n",
    "for _ in range(next_words):\n",
    "  token_list = tokenizer.texts_to_sequences([seed_text])[0]\n",
    "  token_list = pad_sequences([token_list], maxlen = max_sequence_len - 1, padding = 'post')\n",
    "  predicted = model.predict(token_list, verbose = 0)\n",
    "\n",
    "  classes = np.argmax(predicted, axis = 1)\n",
    "  output_word = ''\n",
    "  for word, index in tokenizer.word_index.items():\n",
    "    if index == classes:\n",
    "      output_word = word\n",
    "      break\n",
    "    \n",
    "    seed_text += '' + output_word\n",
    "\n",
    "print(seed_text)"
   ]
  },
  {
   "cell_type": "code",
   "execution_count": 16,
   "metadata": {
    "colab": {
     "base_uri": "https://localhost:8080/"
    },
    "executionInfo": {
     "elapsed": 1362,
     "status": "ok",
     "timestamp": 1645620177188,
     "user": {
      "displayName": "Kimata Debonair.",
      "photoUrl": "https://lh3.googleusercontent.com/a-/AOh14Gj-SlXpfy04SZBG8sjiCFq1PhqepW5KWh_MRnVd=s64",
      "userId": "07396453125942490569"
     },
     "user_tz": -180
    },
    "id": "p2ZG3LJNmMl-",
    "outputId": "d3122530-3a26-41c9-ec86-6ad9a83fb679"
   },
   "outputs": [
    {
     "name": "stdout",
     "output_type": "stream",
     "text": [
      "I've got a good feeling about this since                     \n"
     ]
    }
   ],
   "source": [
    "from traitlets.traitlets import ClassTypes\n",
    "seed_text = \"I've got a good feeling about this since \"\n",
    "next_words = 20\n",
    "  \n",
    "for _ in range(next_words):\n",
    "\n",
    "\ttoken_list = tokenizer.texts_to_sequences([seed_text])[0]\n",
    "\ttoken_list = pad_sequences([token_list], maxlen=max_sequence_len-1, padding='pre')\n",
    "\tpredicted = model.predict(token_list, verbose=0)\n",
    " \n",
    "\tclasses = np.argmax(predicted, axis = 1)\n",
    "\toutput_word = \"\"\n",
    "\tfor word, index in tokenizer.word_index.items():\n",
    "\t\tif index == classes:\n",
    "\t\t\toutput_word = word\n",
    "\t\t\tbreak\n",
    "\tseed_text += \" \" + output_word\n",
    "print(seed_text)"
   ]
  },
  {
   "cell_type": "code",
   "execution_count": 17,
   "metadata": {
    "executionInfo": {
     "elapsed": 9,
     "status": "ok",
     "timestamp": 1645620251749,
     "user": {
      "displayName": "Kimata Debonair.",
      "photoUrl": "https://lh3.googleusercontent.com/a-/AOh14Gj-SlXpfy04SZBG8sjiCFq1PhqepW5KWh_MRnVd=s64",
      "userId": "07396453125942490569"
     },
     "user_tz": -180
    },
    "id": "QzbTX7Lkmx5K"
   },
   "outputs": [],
   "source": [
    "import matplotlib.pyplot as plt\n",
    "\n",
    "def plot_graphs(history, string):\n",
    "  plt.plot(history.history[string])\n",
    "  plt.xlabel('Epochs')\n",
    "  plt.ylabel(string)\n",
    "  plt.show()"
   ]
  },
  {
   "cell_type": "code",
   "execution_count": 18,
   "metadata": {
    "colab": {
     "base_uri": "https://localhost:8080/",
     "height": 280
    },
    "executionInfo": {
     "elapsed": 853,
     "status": "ok",
     "timestamp": 1645620269273,
     "user": {
      "displayName": "Kimata Debonair.",
      "photoUrl": "https://lh3.googleusercontent.com/a-/AOh14Gj-SlXpfy04SZBG8sjiCFq1PhqepW5KWh_MRnVd=s64",
      "userId": "07396453125942490569"
     },
     "user_tz": -180
    },
    "id": "sOIqyOzLnEl8",
    "outputId": "963d91e0-8385-4253-cff7-ff49f54b3ebe"
   },
   "outputs": [
    {
     "data": {
      "image/png": "[encoded data removed]",
      "text/plain": [
       "<Figure size 432x288 with 1 Axes>"
      ]
     },
     "metadata": {
      "needs_background": "light"
     },
     "output_type": "display_data"
    }
   ],
   "source": [
    "plot_graphs(history, 'accuracy')"
   ]
  },
  {
   "cell_type": "code",
   "execution_count": 19,
   "metadata": {
    "executionInfo": {
     "elapsed": 515,
     "status": "ok",
     "timestamp": 1645620352365,
     "user": {
      "displayName": "Kimata Debonair.",
      "photoUrl": "https://lh3.googleusercontent.com/a-/AOh14Gj-SlXpfy04SZBG8sjiCFq1PhqepW5KWh_MRnVd=s64",
      "userId": "07396453125942490569"
     },
     "user_tz": -180
    },
    "id": "pVtzr77enIg_"
   },
   "outputs": [],
   "source": [
    "model.save('text_generation.h5')"
   ]
  },
  {
   "cell_type": "code",
   "execution_count": null,
   "metadata": {
    "id": "f0zGlnBgndAH"
   },
   "outputs": [],
   "source": []
  }
 ],
 "metadata": {
  "accelerator": "GPU",
  "colab": {
   "authorship_tag": "ABX9TyNqCKp6fdSpHL0igvOq77dR",
   "mount_file_id": "1AypEOwEZUlEm_ljNXwhVAU5k6LLcXqvO",
   "name": "Text generation.ipynb",
   "provenance": []
  },
  "kernelspec": {
   "display_name": "Python 3 (ipykernel)",
   "language": "python",
   "name": "python3"
  },
  "language_info": {
   "codemirror_mode": {
    "name": "ipython",
    "version": 3
   },
   "file_extension": ".py",
   "mimetype": "text/x-python",
   "name": "python",
   "nbconvert_exporter": "python",
   "pygments_lexer": "ipython3",
   "version": "3.9.7"
  }
 },
 "nbformat": 4,
 "nbformat_minor": 4
}
