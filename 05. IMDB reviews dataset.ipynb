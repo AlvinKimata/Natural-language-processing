{
 "cells": [
  {
   "cell_type": "markdown",
   "id": "f0f192d9",
   "metadata": {},
   "source": [
    "### This notebook demonstrates how to load and preprocess the IMDB reviews dataset."
   ]
  },
  {
   "cell_type": "code",
   "execution_count": 1,
   "id": "7e3e0fc9",
   "metadata": {},
   "outputs": [
    {
     "name": "stdout",
     "output_type": "stream",
     "text": [
      "2.7.0\n"
     ]
    }
   ],
   "source": [
    "import numpy as np\n",
    "import tensorflow as tf\n",
    "import tensorflow_datasets as tfds\n",
    "print(tf.__version__)"
   ]
  },
  {
   "cell_type": "code",
   "execution_count": 2,
   "id": "032a4b3b",
   "metadata": {},
   "outputs": [],
   "source": [
    "#Load the data.\n",
    "\n",
    "imdb, info = tfds.load('imdb_reviews', with_info = True, as_supervised = True)"
   ]
  },
  {
   "cell_type": "code",
   "execution_count": 3,
   "id": "974d167b",
   "metadata": {},
   "outputs": [],
   "source": [
    "#Split the data into train and test splits. 50 percent of the train data will be used, the same will apply to the test data.\n",
    "\n",
    "X_train, X_test = imdb['train'], imdb['test']"
   ]
  },
  {
   "cell_type": "markdown",
   "id": "d19ae972",
   "metadata": {},
   "source": [
    "#### The splits contain both sentences and labels as tensors, so we will need to iterate through the splits to separate the labels and sentences."
   ]
  },
  {
   "cell_type": "code",
   "execution_count": 11,
   "id": "858ea0ad",
   "metadata": {},
   "outputs": [],
   "source": [
    "#Create an empty list of the labels and sentences of both splits.\n",
    "X_train_labels = []\n",
    "X_test_labels = []\n",
    "\n",
    "X_train_sentences = []\n",
    "X_test_sentences = []"
   ]
  },
  {
   "cell_type": "code",
   "execution_count": 12,
   "id": "9a508d94",
   "metadata": {},
   "outputs": [],
   "source": [
    "#Iterate through the splits while appending the labels and sentences into the lists.\n",
    "#The .numpy() function converts the lists to numpy arrays.\n",
    "\n",
    "for sentences, labels in X_train:\n",
    "    X_train_sentences.append((sentences.numpy()))\n",
    "    X_train_labels.append(labels.numpy())\n",
    "    \n",
    "\n",
    "for sentences, labels in X_test:\n",
    "    X_test_sentences.append(str(sentences.numpy()))\n",
    "    X_test_labels.append(labels.numpy())"
   ]
  },
  {
   "cell_type": "code",
   "execution_count": 15,
   "id": "20d97af9",
   "metadata": {},
   "outputs": [
    {
     "data": {
      "text/plain": [
       "(b'Mann photographs the Alberta Rocky Mountains in a superb fashion, and Jimmy Stewart and Walter Brennan give enjoyable performances as they always seem to do. <br /><br />But come on Hollywood - a Mountie telling the people of Dawson City, Yukon to elect themselves a marshal (yes a marshal!) and to enforce the law themselves, then gunfighters battling it out on the streets for control of the town? <br /><br />Nothing even remotely resembling that happened on the Canadian side of the border during the Klondike gold rush. Mr. Mann and company appear to have mistaken Dawson City for Deadwood, the Canadian North for the American Wild West.<br /><br />Canadian viewers be prepared for a Reefer Madness type of enjoyable howl with this ludicrous plot, or, to shake your head in disgust.',\n",
       " 0)"
      ]
     },
     "execution_count": 15,
     "metadata": {},
     "output_type": "execute_result"
    }
   ],
   "source": [
    "X_train_sentences[2], X_train_labels[2]"
   ]
  },
  {
   "cell_type": "markdown",
   "id": "70a4c3b3",
   "metadata": {},
   "source": [
    "#### The value 1 represents a positive review while the value 0 represents a negative review in the labels set."
   ]
  },
  {
   "cell_type": "code",
   "execution_count": null,
   "id": "d377f224",
   "metadata": {},
   "outputs": [],
   "source": []
  }
 ],
 "metadata": {
  "kernelspec": {
   "display_name": "Python 3 (ipykernel)",
   "language": "python",
   "name": "python3"
  },
  "language_info": {
   "codemirror_mode": {
    "name": "ipython",
    "version": 3
   },
   "file_extension": ".py",
   "mimetype": "text/x-python",
   "name": "python",
   "nbconvert_exporter": "python",
   "pygments_lexer": "ipython3",
   "version": "3.9.7"
  }
 },
 "nbformat": 4,
 "nbformat_minor": 5
}
