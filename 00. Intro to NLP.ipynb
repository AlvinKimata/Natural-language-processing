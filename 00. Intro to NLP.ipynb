{
 "cells": [
  {
   "cell_type": "code",
   "execution_count": 1,
   "id": "c2a09835-c1a4-4169-815e-6080bfcd46d6",
   "metadata": {},
   "outputs": [],
   "source": [
    "from tensorflow.keras.preprocessing.text import Tokenizer"
   ]
  },
  {
   "cell_type": "code",
   "execution_count": 2,
   "id": "97076102-9bcb-47b2-a591-95a02d6e61b1",
   "metadata": {},
   "outputs": [],
   "source": [
    "sentence = [\n",
    "    'I love my dog',\n",
    "    'I love my cat'\n",
    "]"
   ]
  },
  {
   "cell_type": "code",
   "execution_count": 3,
   "id": "0427d399-1766-48ea-be0a-326786bab4d5",
   "metadata": {},
   "outputs": [],
   "source": [
    "#Instantiate a tokenizer object and pass in the num_words parameter set to 100\n",
    "\n",
    "tokenizer = Tokenizer(num_words=100)"
   ]
  },
  {
   "cell_type": "code",
   "execution_count": 4,
   "id": "60b2f312-2339-43bd-b231-197d0a2edb51",
   "metadata": {},
   "outputs": [],
   "source": [
    "#Encode the data.\n",
    "tokenizer.fit_on_texts(sentence)\n"
   ]
  },
  {
   "cell_type": "code",
   "execution_count": 5,
   "id": "7165f487-60c2-4238-84e9-f901f9c59206",
   "metadata": {},
   "outputs": [],
   "source": [
    "#The word index method returns a dictionary containing the word as a key and a token/number as a value\n",
    "word_index = tokenizer.word_index"
   ]
  },
  {
   "cell_type": "code",
   "execution_count": 6,
   "id": "808f9e6c-8387-4d47-b2f1-6c2db365734c",
   "metadata": {},
   "outputs": [
    {
     "name": "stdout",
     "output_type": "stream",
     "text": [
      "{'i': 1, 'love': 2, 'my': 3, 'dog': 4, 'cat': 5}\n"
     ]
    }
   ],
   "source": [
    "print(word_index)"
   ]
  },
  {
   "cell_type": "code",
   "execution_count": null,
   "id": "802c2c4b-488f-4357-85f3-19594882d069",
   "metadata": {},
   "outputs": [],
   "source": []
  }
 ],
 "metadata": {
  "kernelspec": {
   "display_name": "Python 3",
   "language": "python",
   "name": "python3"
  },
  "language_info": {
   "codemirror_mode": {
    "name": "ipython",
    "version": 3
   },
   "file_extension": ".py",
   "mimetype": "text/x-python",
   "name": "python",
   "nbconvert_exporter": "python",
   "pygments_lexer": "ipython3",
   "version": "3.8.8"
  }
 },
 "nbformat": 4,
 "nbformat_minor": 5
}
