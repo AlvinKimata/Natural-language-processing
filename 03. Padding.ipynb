{
 "cells": [
  {
   "cell_type": "markdown",
   "id": "d3abedcb",
   "metadata": {},
   "source": [
    "### This notebook demonstrates the use of padding in NLP.\n",
    "#### The '_pad_sequences_' class from the *tf.keras.preprocessing.sequence* sub-library is used to pad our data."
   ]
  },
  {
   "cell_type": "code",
   "execution_count": 9,
   "id": "a1198f44",
   "metadata": {},
   "outputs": [],
   "source": [
    "from tensorflow.keras.preprocessing.sequence import pad_sequences\n",
    "pad_sequences??"
   ]
  },
  {
   "cell_type": "code",
   "execution_count": 1,
   "id": "c23306be",
   "metadata": {},
   "outputs": [
    {
     "name": "stderr",
     "output_type": "stream",
     "text": [
      "2022-05-26 20:14:59.664335: W tensorflow/stream_executor/platform/default/dso_loader.cc:64] Could not load dynamic library 'libcudart.so.11.0'; dlerror: libcudart.so.11.0: cannot open shared object file: No such file or directory\n",
      "2022-05-26 20:14:59.664435: I tensorflow/stream_executor/cuda/cudart_stub.cc:29] Ignore above cudart dlerror if you do not have a GPU set up on your machine.\n"
     ]
    }
   ],
   "source": [
    "from tensorflow.keras.preprocessing.text import Tokenizer\n",
    "from tensorflow.keras.preprocessing.sequence import pad_sequences"
   ]
  },
  {
   "cell_type": "code",
   "execution_count": 2,
   "id": "d247a907",
   "metadata": {},
   "outputs": [],
   "source": [
    "sentence = [\n",
    "    'I love my dog',\n",
    "    'I love my cat.',\n",
    "    'Do you think my dog is amazing?'\n",
    "]"
   ]
  },
  {
   "cell_type": "code",
   "execution_count": 3,
   "id": "edb0e9d6",
   "metadata": {},
   "outputs": [],
   "source": [
    "tokenizer = Tokenizer(num_words=100, oov_token='<OOV>')"
   ]
  },
  {
   "cell_type": "code",
   "execution_count": 4,
   "id": "b043c055",
   "metadata": {},
   "outputs": [],
   "source": [
    "tokenizer.fit_on_texts(sentence)"
   ]
  },
  {
   "cell_type": "code",
   "execution_count": 5,
   "id": "4815cf89",
   "metadata": {},
   "outputs": [],
   "source": [
    "word_index = tokenizer.word_index"
   ]
  },
  {
   "cell_type": "code",
   "execution_count": 7,
   "id": "e899f226",
   "metadata": {},
   "outputs": [],
   "source": [
    "#Generate sequences.\n",
    "sequence = tokenizer.texts_to_sequences(sentence)"
   ]
  },
  {
   "cell_type": "code",
   "execution_count": 8,
   "id": "148dfffe",
   "metadata": {},
   "outputs": [
    {
     "name": "stdout",
     "output_type": "stream",
     "text": [
      "[[3, 4, 2, 5], [3, 4, 2, 6], [7, 8, 9, 2, 5, 10, 11]]\n",
      "['I love my dog', 'I love my cat.', 'Do you think my dog is amazing?']\n"
     ]
    }
   ],
   "source": [
    "print(sequence)\n",
    "print(sentence)"
   ]
  },
  {
   "cell_type": "code",
   "execution_count": 9,
   "id": "c4080365",
   "metadata": {},
   "outputs": [
    {
     "name": "stdout",
     "output_type": "stream",
     "text": [
      "[[ 0  0  0  3  4  2  5]\n",
      " [ 0  0  0  3  4  2  6]\n",
      " [ 7  8  9  2  5 10 11]]\n"
     ]
    }
   ],
   "source": [
    "padded = pad_sequences(sequence)\n",
    "print(padded)"
   ]
  },
  {
   "cell_type": "code",
   "execution_count": 10,
   "id": "42ef84eb",
   "metadata": {},
   "outputs": [
    {
     "name": "stdout",
     "output_type": "stream",
     "text": [
      "[[ 3  4  2  5  0  0  0]\n",
      " [ 3  4  2  6  0  0  0]\n",
      " [ 7  8  9  2  5 10 11]]\n"
     ]
    }
   ],
   "source": [
    "post_padded = pad_sequences(sequence, padding='post')\n",
    "print(post_padded)"
   ]
  },
  {
   "cell_type": "code",
   "execution_count": 11,
   "id": "2a5171c3",
   "metadata": {},
   "outputs": [],
   "source": [
    "pad_sequences??"
   ]
  },
  {
   "cell_type": "code",
   "execution_count": null,
   "id": "508a4efb",
   "metadata": {},
   "outputs": [],
   "source": []
  }
 ],
 "metadata": {
  "kernelspec": {
   "display_name": "Python 3 (ipykernel)",
   "language": "python",
   "name": "python3"
  },
  "language_info": {
   "codemirror_mode": {
    "name": "ipython",
    "version": 3
   },
   "file_extension": ".py",
   "mimetype": "text/x-python",
   "name": "python",
   "nbconvert_exporter": "python",
   "pygments_lexer": "ipython3",
   "version": "3.9.7"
  }
 },
 "nbformat": 4,
 "nbformat_minor": 5
}
