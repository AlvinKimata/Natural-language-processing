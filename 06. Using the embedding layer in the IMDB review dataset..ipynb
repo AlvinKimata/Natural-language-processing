{
 "cells": [
  {
   "cell_type": "code",
   "execution_count": 2,
   "id": "33f11558",
   "metadata": {},
   "outputs": [
    {
     "name": "stdout",
     "output_type": "stream",
     "text": [
      "2.7.0\n"
     ]
    }
   ],
   "source": [
    "import numpy as np\n",
    "import tensorflow as tf\n",
    "import tensorflow_datasets as tfds\n",
    "\n",
    "from tensorflow.keras.preprocessing.text import Tokenizer\n",
    "from tensorflow.keras.preprocessing.sequence import pad_sequences\n",
    "\n",
    "print(tf.__version__)"
   ]
  },
  {
   "cell_type": "code",
   "execution_count": 3,
   "id": "12a36c7c",
   "metadata": {},
   "outputs": [],
   "source": [
    "#Load the dataset.\n",
    "imdb, info = tfds.load('imdb_reviews', with_info=True, as_supervised=True)"
   ]
  },
  {
   "cell_type": "code",
   "execution_count": 4,
   "id": "64fffdf2",
   "metadata": {},
   "outputs": [],
   "source": [
    "#Split the data into train and test splits.\n",
    "X_train, X_test = imdb['train'], imdb['test']\n",
    "\n",
    "#Split the splits into sentences and labels.\n",
    "X_train_labels = []\n",
    "X_test_labels = []\n",
    "\n",
    "X_train_sentences = []\n",
    "X_test_sentences = []\n",
    "\n",
    "for s, l in X_train:\n",
    "    X_train_sentences.append(s.numpy().decode('utf8'))\n",
    "    X_train_labels.append(l.numpy())\n",
    "    \n",
    "\n",
    "for s, l in X_test:\n",
    "    X_test_sentences.append(s.numpy().decode('utf8'))\n",
    "    X_test_labels.append(l.numpy())"
   ]
  },
  {
   "cell_type": "code",
   "execution_count": 5,
   "id": "f876ce7c",
   "metadata": {},
   "outputs": [
    {
     "data": {
      "text/plain": [
       "((25000,), (25000,))"
      ]
     },
     "execution_count": 5,
     "metadata": {},
     "output_type": "execute_result"
    }
   ],
   "source": [
    "#Convert the labels into numpy arrays.\n",
    "X_test_labels = np.array(X_test_labels)\n",
    "X_train_labels = np.array(X_train_labels)\n",
    "\n",
    "X_test_labels.shape, X_train_labels.shape"
   ]
  },
  {
   "cell_type": "code",
   "execution_count": 6,
   "id": "ecdf9cd4",
   "metadata": {},
   "outputs": [],
   "source": [
    "#Initialize global variables for making sequences and padding for the data.\n",
    "vocab_size = 10000\n",
    "embedding_dim = 16\n",
    "trunc_type = 'post'\n",
    "oov_tok = '<OOV>'\n",
    "max_length = 120"
   ]
  },
  {
   "cell_type": "code",
   "execution_count": 7,
   "id": "c9bb6ed0",
   "metadata": {},
   "outputs": [],
   "source": [
    "tokenizer = Tokenizer(num_words=vocab_size, oov_token=oov_tok)\n",
    "\n",
    "\n",
    "tokenizer.fit_on_texts(X_train_sentences)\n",
    "word_index = tokenizer.word_index\n",
    "\n",
    "train_sequnces = tokenizer.texts_to_sequences(X_train_sentences)\n",
    "train_padded = pad_sequences(train_sequnces, maxlen = max_length)\n",
    "\n",
    "test_sequences = tokenizer.texts_to_sequences(X_test_sentences)\n",
    "test_padded = pad_sequences(test_sequences, maxlen=max_length)"
   ]
  },
  {
   "cell_type": "code",
   "execution_count": 12,
   "id": "4d0dcbfc",
   "metadata": {},
   "outputs": [],
   "source": [
    "model = tf.keras.Sequential([\n",
    "    tf.keras.layers.Embedding(input_dim = vocab_size, output_dim = embedding_dim, input_length = max_length),\n",
    "    tf.keras.layers.Flatten(),\n",
    "    tf.keras.layers.Dense(6, activation = 'relu'),\n",
    "    tf.keras.layers.Dense(1, activation = 'sigmoid')\n",
    "])"
   ]
  },
  {
   "cell_type": "code",
   "execution_count": 13,
   "id": "f29f504f",
   "metadata": {},
   "outputs": [],
   "source": [
    "#Compile model.\n",
    "model.compile(optimizer='adam',\n",
    "             metrics = ['accuracy'],\n",
    "             loss = 'binary_crossentropy')"
   ]
  },
  {
   "cell_type": "code",
   "execution_count": 14,
   "id": "5c7d05a3",
   "metadata": {},
   "outputs": [
    {
     "name": "stdout",
     "output_type": "stream",
     "text": [
      "Model: \"sequential_1\"\n",
      "_________________________________________________________________\n",
      " Layer (type)                Output Shape              Param #   \n",
      "=================================================================\n",
      " embedding_1 (Embedding)     (None, 120, 16)           160000    \n",
      "                                                                 \n",
      " flatten (Flatten)           (None, 1920)              0         \n",
      "                                                                 \n",
      " dense_2 (Dense)             (None, 6)                 11526     \n",
      "                                                                 \n",
      " dense_3 (Dense)             (None, 1)                 7         \n",
      "                                                                 \n",
      "=================================================================\n",
      "Total params: 171,533\n",
      "Trainable params: 171,533\n",
      "Non-trainable params: 0\n",
      "_________________________________________________________________\n"
     ]
    }
   ],
   "source": [
    "model.summary()"
   ]
  },
  {
   "cell_type": "code",
   "execution_count": 15,
   "id": "6b47fa9b",
   "metadata": {},
   "outputs": [
    {
     "name": "stdout",
     "output_type": "stream",
     "text": [
      "Epoch 1/10\n",
      "782/782 [==============================] - 7s 6ms/step - loss: 0.4709 - accuracy: 0.7568 - val_loss: 0.3204 - val_accuracy: 0.8608\n",
      "Epoch 2/10\n",
      "782/782 [==============================] - 5s 6ms/step - loss: 0.2088 - accuracy: 0.9218 - val_loss: 0.3377 - val_accuracy: 0.8552\n",
      "Epoch 3/10\n",
      "782/782 [==============================] - 5s 6ms/step - loss: 0.0838 - accuracy: 0.9788 - val_loss: 0.4182 - val_accuracy: 0.8435\n",
      "Epoch 4/10\n",
      "782/782 [==============================] - 5s 6ms/step - loss: 0.0213 - accuracy: 0.9970 - val_loss: 0.4832 - val_accuracy: 0.8452\n",
      "Epoch 5/10\n",
      "782/782 [==============================] - 5s 6ms/step - loss: 0.0056 - accuracy: 0.9997 - val_loss: 0.5388 - val_accuracy: 0.8461\n",
      "Epoch 6/10\n",
      "782/782 [==============================] - 5s 6ms/step - loss: 0.0021 - accuracy: 0.9998 - val_loss: 0.5846 - val_accuracy: 0.8449\n",
      "Epoch 7/10\n",
      "782/782 [==============================] - 5s 6ms/step - loss: 8.2108e-04 - accuracy: 1.0000 - val_loss: 0.6252 - val_accuracy: 0.8457\n",
      "Epoch 8/10\n",
      "782/782 [==============================] - 5s 6ms/step - loss: 4.3970e-04 - accuracy: 1.0000 - val_loss: 0.6606 - val_accuracy: 0.8460\n",
      "Epoch 9/10\n",
      "782/782 [==============================] - 5s 6ms/step - loss: 2.5308e-04 - accuracy: 1.0000 - val_loss: 0.6958 - val_accuracy: 0.8461\n",
      "Epoch 10/10\n",
      "782/782 [==============================] - 5s 6ms/step - loss: 1.5203e-04 - accuracy: 1.0000 - val_loss: 0.7295 - val_accuracy: 0.8454\n"
     ]
    },
    {
     "data": {
      "text/plain": [
       "<keras.callbacks.History at 0x7f886f6308e0>"
      ]
     },
     "execution_count": 15,
     "metadata": {},
     "output_type": "execute_result"
    }
   ],
   "source": [
    "num_epochs = 10\n",
    "\n",
    "model.fit(train_padded, X_train_labels,\n",
    "         epochs=num_epochs,\n",
    "         validation_data=(test_padded, X_test_labels))"
   ]
  },
  {
   "cell_type": "code",
   "execution_count": 16,
   "id": "55b6c10c",
   "metadata": {},
   "outputs": [],
   "source": [
    "model1 = tf.keras.Sequential([\n",
    "    tf.keras.layers.Embedding(input_dim = vocab_size, output_dim = embedding_dim, input_length = max_length),\n",
    "    tf.keras.layers.GlobalAveragePooling1D(),\n",
    "    tf.keras.layers.Dense(6, activation = 'relu'),\n",
    "    tf.keras.layers.Dense(1, activation = 'sigmoid')\n",
    "])"
   ]
  },
  {
   "cell_type": "code",
   "execution_count": 17,
   "id": "3f132ab8",
   "metadata": {},
   "outputs": [],
   "source": [
    "model1.compile(metrics = ['accuracy'],\n",
    "              loss = 'binary_crossentropy',\n",
    "              optimizer = 'adam')"
   ]
  },
  {
   "cell_type": "code",
   "execution_count": 18,
   "id": "af2a5f1f",
   "metadata": {},
   "outputs": [
    {
     "name": "stdout",
     "output_type": "stream",
     "text": [
      "Model: \"sequential_2\"\n",
      "_________________________________________________________________\n",
      " Layer (type)                Output Shape              Param #   \n",
      "=================================================================\n",
      " embedding_2 (Embedding)     (None, 120, 16)           160000    \n",
      "                                                                 \n",
      " global_average_pooling1d (G  (None, 16)               0         \n",
      " lobalAveragePooling1D)                                          \n",
      "                                                                 \n",
      " dense_4 (Dense)             (None, 6)                 102       \n",
      "                                                                 \n",
      " dense_5 (Dense)             (None, 1)                 7         \n",
      "                                                                 \n",
      "=================================================================\n",
      "Total params: 160,109\n",
      "Trainable params: 160,109\n",
      "Non-trainable params: 0\n",
      "_________________________________________________________________\n"
     ]
    }
   ],
   "source": [
    "model1.summary()"
   ]
  },
  {
   "cell_type": "code",
   "execution_count": 19,
   "id": "8f37276f",
   "metadata": {},
   "outputs": [
    {
     "name": "stdout",
     "output_type": "stream",
     "text": [
      "Epoch 1/10\n",
      "782/782 [==============================] - 5s 6ms/step - loss: 0.5440 - accuracy: 0.7639 - val_loss: 0.3781 - val_accuracy: 0.8452\n",
      "Epoch 2/10\n",
      "782/782 [==============================] - 5s 6ms/step - loss: 0.3075 - accuracy: 0.8764 - val_loss: 0.3223 - val_accuracy: 0.8602\n",
      "Epoch 3/10\n",
      "782/782 [==============================] - 5s 6ms/step - loss: 0.2474 - accuracy: 0.9015 - val_loss: 0.3157 - val_accuracy: 0.8624\n",
      "Epoch 4/10\n",
      "782/782 [==============================] - 5s 6ms/step - loss: 0.2145 - accuracy: 0.9174 - val_loss: 0.3255 - val_accuracy: 0.8594\n",
      "Epoch 5/10\n",
      "782/782 [==============================] - 5s 6ms/step - loss: 0.1905 - accuracy: 0.9290 - val_loss: 0.3414 - val_accuracy: 0.8562\n",
      "Epoch 6/10\n",
      "782/782 [==============================] - 5s 6ms/step - loss: 0.1704 - accuracy: 0.9376 - val_loss: 0.3780 - val_accuracy: 0.8494\n",
      "Epoch 7/10\n",
      "782/782 [==============================] - 5s 6ms/step - loss: 0.1543 - accuracy: 0.9453 - val_loss: 0.3891 - val_accuracy: 0.8493\n",
      "Epoch 8/10\n",
      "782/782 [==============================] - 5s 6ms/step - loss: 0.1406 - accuracy: 0.9510 - val_loss: 0.4152 - val_accuracy: 0.8450\n",
      "Epoch 9/10\n",
      "782/782 [==============================] - 5s 6ms/step - loss: 0.1274 - accuracy: 0.9564 - val_loss: 0.4522 - val_accuracy: 0.8382\n",
      "Epoch 10/10\n",
      "782/782 [==============================] - 5s 7ms/step - loss: 0.1158 - accuracy: 0.9630 - val_loss: 0.4786 - val_accuracy: 0.8360\n"
     ]
    },
    {
     "data": {
      "text/plain": [
       "<keras.callbacks.History at 0x7f886d7d1220>"
      ]
     },
     "execution_count": 19,
     "metadata": {},
     "output_type": "execute_result"
    }
   ],
   "source": [
    "model1.fit(train_padded, X_train_labels,\n",
    "         epochs=num_epochs,\n",
    "         validation_data=(test_padded, X_test_labels))"
   ]
  },
  {
   "cell_type": "code",
   "execution_count": 20,
   "id": "d92fb482",
   "metadata": {},
   "outputs": [
    {
     "name": "stdout",
     "output_type": "stream",
     "text": [
      "782/782 [==============================] - 2s 2ms/step - loss: 0.7295 - accuracy: 0.8454\n"
     ]
    },
    {
     "data": {
      "text/plain": [
       "[0.7294515371322632, 0.8453999757766724]"
      ]
     },
     "execution_count": 20,
     "metadata": {},
     "output_type": "execute_result"
    }
   ],
   "source": [
    "model.evaluate(test_padded, X_test_labels)"
   ]
  },
  {
   "cell_type": "code",
   "execution_count": 21,
   "id": "b6ab6b75",
   "metadata": {},
   "outputs": [
    {
     "name": "stdout",
     "output_type": "stream",
     "text": [
      "(10000, 16)\n"
     ]
    }
   ],
   "source": [
    "e = model.layers[0]\n",
    "weights = e.get_weights()[0]\n",
    "print(weights.shape) # shape: (vocab_size, embedding_dim)"
   ]
  },
  {
   "cell_type": "code",
   "execution_count": 24,
   "id": "68d4c946",
   "metadata": {},
   "outputs": [
    {
     "name": "stdout",
     "output_type": "stream",
     "text": [
      "? ? ? ? ? ? ? ? ? ? ? ? ? ? ? ? ? ? ? ? ? ? ? ? ? ? ? ? ? ? ? this is the kind of film for a snowy sunday afternoon when the rest of the world can go ahead with its own business as you <OOV> into a big arm chair and <OOV> for a couple of hours wonderful performances from cher and nicolas cage as always gently row the plot along there are no <OOV> to cross no dangerous waters just a warm and witty <OOV> through new york life at its best a family film in every sense and one that deserves the praise it received\n",
      "This is the kind of film for a snowy Sunday afternoon when the rest of the world can go ahead with its own business as you descend into a big arm-chair and mellow for a couple of hours. Wonderful performances from Cher and Nicolas Cage (as always) gently row the plot along. There are no rapids to cross, no dangerous waters, just a warm and witty paddle through New York life at its best. A family film in every sense and one that deserves the praise it received.\n"
     ]
    }
   ],
   "source": [
    "reverse_word_index = dict([(value, key) for (key, value) in word_index.items()])\n",
    "\n",
    "def decode_review(text):\n",
    "    return ' '.join([reverse_word_index.get(i, '?') for i in text])\n",
    "\n",
    "print(decode_review(train_padded[3]))\n",
    "print(X_train_sentences[3])"
   ]
  },
  {
   "cell_type": "code",
   "execution_count": 25,
   "id": "f12235bf",
   "metadata": {},
   "outputs": [],
   "source": [
    "import io\n",
    "\n",
    "out_v = io.open('vecs.tsv', 'w', encoding='utf-8')\n",
    "out_m = io.open('meta.tsv', 'w', encoding='utf-8')\n",
    "for word_num in range(1, vocab_size):\n",
    "  word = reverse_word_index[word_num]\n",
    "  embeddings = weights[word_num]\n",
    "  out_m.write(word + \"\\n\")\n",
    "  out_v.write('\\t'.join([str(x) for x in embeddings]) + \"\\n\")\n",
    "out_v.close()\n",
    "out_m.close()"
   ]
  },
  {
   "cell_type": "code",
   "execution_count": null,
   "id": "936f81c9",
   "metadata": {},
   "outputs": [],
   "source": []
  }
 ],
 "metadata": {
  "kernelspec": {
   "display_name": "Python 3 (ipykernel)",
   "language": "python",
   "name": "python3"
  },
  "language_info": {
   "codemirror_mode": {
    "name": "ipython",
    "version": 3
   },
   "file_extension": ".py",
   "mimetype": "text/x-python",
   "name": "python",
   "nbconvert_exporter": "python",
   "pygments_lexer": "ipython3",
   "version": "3.9.7"
  }
 },
 "nbformat": 4,
 "nbformat_minor": 5
}
